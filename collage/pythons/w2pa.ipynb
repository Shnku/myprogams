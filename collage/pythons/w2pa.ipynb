{
 "cells": [
  {
   "cell_type": "markdown",
   "metadata": {},
   "source": [
    "A positive integer m can be expresseed as the sum of three squares if it is of the form p + q + r where p, q, r ≥ 0, and p, q, r are all perfect squares. For instance, 2 can be written as 0+1+1 but 7 cannot be expressed as the sum of three squares. The first numbers that cannot be expressed as the sum of three squares are 7, 15, 23, 28, 31, 39, 47, 55, 60, 63, 71, … (see Legendre's three-square theorem).\n",
    "\n",
    "Write a Python function threesquares(m) that takes an integer m as input and returns True if m can be expressed as the sum of three squares and False otherwise. (If m is not positive, your function should return False.)\n"
   ]
  },
  {
   "cell_type": "code",
   "execution_count": null,
   "metadata": {},
   "outputs": [],
   "source": [
    "def threesquares(args):\n",
    "    a = []\n",
    "    for item in range(1, args):\n",
    "        a.append(item)\n",
    "    # print(a)\n",
    "    for p in a:\n",
    "        for q in a:\n",
    "            for r in a:\n",
    "                if (p**2 + q**2 + r**2) == args:\n",
    "                    return True\n",
    "    return False\n",
    "\n",
    "\n",
    "# output...\n",
    "# print(\"1: \", threesquares(6))\n",
    "# print(\"2: \", threesquares(188))\n",
    "# print(\"3: \", threesquares(1000))\n",
    "# print(\"4: \", threesquares(143))\n",
    "print(\"5: \", threesquares(1023))  # not works\n",
    "print(\"6: \", threesquares(1024))  # not works\n",
    "print(\"7: \", threesquares(2160))  # not works\n"
   ]
  },
  {
   "cell_type": "markdown",
   "metadata": {},
   "source": [
    "Write a function repfree(s) that takes as input a string s and checks whether any character appears more than once. The function should return True if there are no repetitions and False otherwise.\n",
    "\n",
    "Here are some examples to show how your function should work.\n",
    "\n"
   ]
  },
  {
   "cell_type": "code",
   "execution_count": 1,
   "metadata": {
    "editable": true,
    "slideshow": {
     "slide_type": ""
    },
    "tags": []
   },
   "outputs": [
    {
     "name": "stdout",
     "output_type": "stream",
     "text": [
      "True\n",
      "False\n",
      "True\n",
      "False\n",
      "True\n",
      "False\n",
      "True\n",
      "False\n"
     ]
    }
   ],
   "source": [
    "def repfree(args):\n",
    "    for item in range(len(args)):\n",
    "        for item3 in range(len(args)):\n",
    "            if item != item3 and args[item3] == args[item]:\n",
    "                return False\n",
    "    return True\n",
    "\n",
    "\n",
    "# output...\n",
    "print(repfree(\"zb%78\"))\n",
    "print(repfree(\"(7)(a\"))\n",
    "print(repfree(\"a)*(?\"))\n",
    "print(repfree(\"abracadabra\"))\n",
    "print(repfree(\"qwerty!@#2\"))\n",
    "print(repfree(\"(x+6)(y-5)\"))\n",
    "print(repfree(\"94templars\"))\n",
    "print(repfree(\"siruseri\"))\n"
   ]
  },
  {
   "cell_type": "markdown",
   "metadata": {},
   "source": [
    "A list of numbers is said to be a hill if it consists of an ascending sequence followed by a descending sequence, where each of the sequences is of length at least two. Similarly, a list of numbers is said to be a valley if it consists of an descending sequence followed by an ascending sequence. You can assume that consecutive numbers in the input sequence are always different from each other.\n",
    "\n",
    "Write a Python function hillvalley(l) that takes a list l of integers and returns True if it is a hill or a valley, and False otherwise.\n",
    "\n",
    "Here are some examples to show how your function should work."
   ]
  },
  {
   "cell_type": "code",
   "execution_count": 57,
   "metadata": {},
   "outputs": [
    {
     "name": "stdout",
     "output_type": "stream",
     "text": [
      "transc  1\n",
      "True\n",
      "transc  0\n",
      "False\n",
      "transc  1\n",
      "True\n",
      "transc  0\n",
      "False\n",
      "transc  1\n",
      "True\n",
      "transc  3\n",
      "False\n",
      "transc  1\n",
      "True\n",
      "transc  0\n",
      "False\n"
     ]
    }
   ],
   "source": [
    "def hillvalley(arr):\n",
    "    size = len(arr)\n",
    "    trans_cnt = 0\n",
    "    increasing = arr[0] < arr[1]\n",
    "    for i in range(1, size-1):\n",
    "        if increasing and arr[i] > arr[i+1]:\n",
    "            increasing = False\n",
    "            trans_cnt += 1\n",
    "        elif not increasing and arr[i] < arr[i+1]:\n",
    "            increasing = True\n",
    "            trans_cnt += 1\n",
    "\n",
    "    print(\"transc \", trans_cnt)\n",
    "    return trans_cnt == 1\n",
    "\n",
    "\n",
    "# ouput...\n",
    "print(hillvalley([1, 2, 3, 5, 4]))  # true\n",
    "print(hillvalley([1, 2, 3, 4, 5]))  # false\n",
    "print(hillvalley([5, 4, 1, 2, 3]))  # true\n",
    "print(hillvalley([5, 4, 3, 2, 1]))  # false\n",
    "print(hillvalley([1, 2, 3, 5, 4, 3, 2, 1]))  # true\n",
    "print(hillvalley([1, 2, 3, 4, 5, 3, 2, 4, 5, 3, 2, 1]))  # false\n",
    "print(hillvalley([9, 5, 4, -1, -2, 3, 7]))  # true\n",
    "print(hillvalley([5, 4, 3, 2, 1, 0, -1, -2, -3]))  # false\n"
   ]
  },
  {
   "cell_type": "code",
   "execution_count": 55,
   "metadata": {},
   "outputs": [
    {
     "name": "stdout",
     "output_type": "stream",
     "text": [
      "True\n",
      "False\n",
      "False\n",
      "True\n",
      "True\n",
      "False\n",
      "False\n",
      "True\n"
     ]
    }
   ],
   "source": [
    "# modified by bard..\n",
    "def hillvalley(args):\n",
    "    if len(args) < 4:\n",
    "        return False\n",
    "    incrs = True\n",
    "    trans_count = 0\n",
    "    for i in range(2, len(args)):\n",
    "        if args[i-1] == args[i]:\n",
    "            return False\n",
    "        if incrs and args[i] < args[i-1]:\n",
    "            incrs = False\n",
    "            trans_count += 1\n",
    "            if trans_count > 1:\n",
    "                return False\n",
    "        elif not incrs and args[i] > args[i-1]:\n",
    "            return False\n",
    "        incrs = args[i] > args[i-1]\n",
    "        if i == len(args)-1 and trans_count == 1:\n",
    "            return True\n",
    "    return False\n",
    "\n",
    "\n",
    "# ouput...\n",
    "print(hillvalley([1, 2, 3, 5, 4]))  # true\n",
    "print(hillvalley([1, 2, 3, 4, 5]))  # false\n",
    "print(hillvalley([5, 4, 1, 2, 3]))  # true\n",
    "print(hillvalley([5, 4, 3, 2, 1]))  # false\n",
    "print(hillvalley([1, 2, 3, 5, 4, 3, 2, 1]))  # true\n",
    "print(hillvalley([1, 2, 3, 4, 5, 3, 2, 4, 5, 3, 2, 1]))  # false\n",
    "print(hillvalley([9, 5, 4, -1, -2, 3, 7]))  # true\n",
    "print(hillvalley([5, 4, 3, 2, 1, 0, -1, -2, -3]))  # false\n"
   ]
  }
 ],
 "metadata": {
  "kernelspec": {
   "display_name": "Python 3 (ipykernel)",
   "language": "python",
   "name": "python3"
  },
  "language_info": {
   "codemirror_mode": {
    "name": "ipython",
    "version": 3
   },
   "file_extension": ".py",
   "mimetype": "text/x-python",
   "name": "python",
   "nbconvert_exporter": "python",
   "pygments_lexer": "ipython3",
   "version": "3.11.7"
  }
 },
 "nbformat": 4,
 "nbformat_minor": 4
}
