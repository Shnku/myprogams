{
 "cells": [
  {
   "cell_type": "code",
   "execution_count": 9,
   "metadata": {},
   "outputs": [
    {
     "name": "stdout",
     "output_type": "stream",
     "text": [
      "name=  shanku\n",
      "age=  18\n",
      "bg=  o+\n"
     ]
    }
   ],
   "source": [
    "class person:\n",
    "    def __init__(self, name, age, bg):\n",
    "        self.name = name\n",
    "        self.age = age\n",
    "        self.bg = bg\n",
    "\n",
    "    def disp(self):\n",
    "        print('name= ', self.name)\n",
    "        print('age= ', self.age)\n",
    "        print('bg= ', self.bg)\n",
    "\n",
    "\n",
    "p1 = person('shanku', 18, 'o+')\n",
    "p1.disp()\n"
   ]
  },
  {
   "cell_type": "code",
   "execution_count": 12,
   "metadata": {},
   "outputs": [
    {
     "name": "stdout",
     "output_type": "stream",
     "text": [
      "name=  ashdhj\n",
      "age=  34\n",
      "bg=  we++\n"
     ]
    }
   ],
   "source": [
    "p4 = person(\"ashdhj\", 34, 'we++')\n",
    "p4.disp()\n"
   ]
  },
  {
   "cell_type": "code",
   "execution_count": 10,
   "metadata": {},
   "outputs": [
    {
     "name": "stdout",
     "output_type": "stream",
     "text": [
      "name=  ashdhj\n",
      "age=  34\n",
      "bg=  we++\n"
     ]
    }
   ],
   "source": [
    "\n",
    "p3 = person(\"ashdhj\", 34, 'we++')\n",
    "p3.disp()\n"
   ]
  },
  {
   "cell_type": "code",
   "execution_count": 11,
   "metadata": {},
   "outputs": [
    {
     "name": "stdout",
     "output_type": "stream",
     "text": [
      "name=  dsjhdk\n",
      "age=  23\n",
      "bg=  \n"
     ]
    }
   ],
   "source": [
    "p2 = person('dsjhdk', 23, '')\n",
    "p2.disp()\n"
   ]
  }
 ],
 "metadata": {
  "kernelspec": {
   "display_name": "Python 3",
   "language": "python",
   "name": "python3"
  },
  "language_info": {
   "codemirror_mode": {
    "name": "ipython",
    "version": 3
   },
   "file_extension": ".py",
   "mimetype": "text/x-python",
   "name": "python",
   "nbconvert_exporter": "python",
   "pygments_lexer": "ipython3",
   "version": "3.9.2"
  }
 },
 "nbformat": 4,
 "nbformat_minor": 2
}
