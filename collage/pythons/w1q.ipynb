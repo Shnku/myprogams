{
 "cells": [
  {
   "cell_type": "code",
   "execution_count": 4,
   "metadata": {},
   "outputs": [
    {
     "data": {
      "text/plain": [
       "25"
      ]
     },
     "execution_count": 4,
     "metadata": {},
     "output_type": "execute_result"
    }
   ],
   "source": [
    "def f(x):\n",
    "    d = 0\n",
    "    while x > 1:\n",
    "        (x, d) = (x/2, d+1)\n",
    "    return(d)\n",
    "\n",
    "f(27182818)\n"
   ]
  },
  {
   "cell_type": "code",
   "execution_count": 9,
   "metadata": {},
   "outputs": [
    {
     "data": {
      "text/plain": [
       "75"
      ]
     },
     "execution_count": 9,
     "metadata": {},
     "output_type": "execute_result"
    }
   ],
   "source": [
    "def h(n):\n",
    "    s = 0\n",
    "    for i in range(2, n):\n",
    "        if n % i == 0:\n",
    "            s = s+i\n",
    "    return (s)\n",
    "\n",
    "\n",
    "h(60) - h(45)\n"
   ]
  },
  {
   "cell_type": "code",
   "execution_count": 10,
   "metadata": {},
   "outputs": [
    {
     "data": {
      "text/plain": [
       "4"
      ]
     },
     "execution_count": 10,
     "metadata": {},
     "output_type": "execute_result"
    }
   ],
   "source": [
    "def g(m, n):\n",
    "    res = 0\n",
    "    while m >= n:\n",
    "        (res, m) = (res+1, m/n)\n",
    "    return(res)\n",
    "\n",
    "\n",
    "g(375, 4)\n"
   ]
  },
  {
   "cell_type": "code",
   "execution_count": 11,
   "metadata": {},
   "outputs": [
    {
     "data": {
      "text/plain": [
       "24"
      ]
     },
     "execution_count": 11,
     "metadata": {},
     "output_type": "execute_result"
    }
   ],
   "source": [
    "def mys(m):\n",
    "    if m == 1:\n",
    "        return(1)\n",
    "    else:\n",
    "        return(m*mys(m-1))\n",
    "\n",
    "mys(4)"
   ]
  }
 ],
 "metadata": {
  "kernelspec": {
   "display_name": "Python 3",
   "language": "python",
   "name": "python3"
  },
  "language_info": {
   "codemirror_mode": {
    "name": "ipython",
    "version": 3
   },
   "file_extension": ".py",
   "mimetype": "text/x-python",
   "name": "python",
   "nbconvert_exporter": "python",
   "pygments_lexer": "ipython3",
   "version": "3.9.2"
  }
 },
 "nbformat": 4,
 "nbformat_minor": 2
}
